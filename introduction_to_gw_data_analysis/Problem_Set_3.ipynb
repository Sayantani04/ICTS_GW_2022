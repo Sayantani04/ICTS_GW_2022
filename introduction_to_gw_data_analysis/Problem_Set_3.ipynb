{
 "cells": [
  {
   "cell_type": "code",
   "execution_count": 6,
   "id": "0414c54e",
   "metadata": {},
   "outputs": [],
   "source": [
    "import numpy as np\n",
    "import matplotlib.pyplot as plt\n",
    "from matplotlib import rc, rcParams"
   ]
  },
  {
   "cell_type": "code",
   "execution_count": 7,
   "id": "84a19c72",
   "metadata": {},
   "outputs": [],
   "source": [
    "rc_params = {'axes.labelsize': 14,\n",
    "             'axes.titlesize': 14,\n",
    "             'font.size': 14,\n",
    "             'lines.linewidth' : 3,\n",
    "             'legend.fontsize': 14,\n",
    "             'xtick.labelsize': 12,\n",
    "             'ytick.labelsize': 12,\n",
    "             'text.usetex' : True,\n",
    "            }\n",
    "rcParams.update(rc_params)\n",
    "\n",
    "rc('text.latex', preamble='\\\\usepackage{txfonts}')\n",
    "rc('text', usetex=True)\n",
    "rc('font', family='serif')\n",
    "rc('font', serif='times')\n",
    "rc('mathtext', default='sf')\n",
    "rc(\"lines\", markeredgewidth=1)\n",
    "rc(\"lines\", linewidth=2)"
   ]
  },
  {
   "cell_type": "code",
   "execution_count": 27,
   "id": "25acf5b2",
   "metadata": {},
   "outputs": [],
   "source": [
    "def likelihood(lam,x):\n",
    "    Z = np.exp(-1/lam)-np.exp(-20/lam)\n",
    "    N = len(x)\n",
    "    fun = (1/(lam*Z)**N)*np.exp(-np.sum(x)/lam)\n",
    "    return fun\n",
    "\n",
    "def prior(lam):              # consider the flat prior case\n",
    "    return np.ones(len(lam)) # up to a normalisation constant\n",
    "\n",
    "def posterior(lam,x):\n",
    "    return likelihood(lam,x)*prior(lam)"
   ]
  },
  {
   "cell_type": "code",
   "execution_count": 28,
   "id": "79792729",
   "metadata": {},
   "outputs": [
    {
     "data": {
      "image/png": "[encoded data removed]",
      "text/plain": [
       "<Figure size 432x288 with 1 Axes>"
      ]
     },
     "metadata": {
      "needs_background": "light"
     },
     "output_type": "display_data"
    }
   ],
   "source": [
    "x = np.array([1.5, 2, 3, 4, 5, 12])  # suppose a six-point dataset\n",
    "lam = np.linspace(0.1, 120, int(1e4))\n",
    "postr = posterior(lam,x)             # up to a normalisation constant\n",
    "\n",
    "plt.plot(lam,postr)\n",
    "plt.title('Posterior/Likelihood distribution', fontsize=18)\n",
    "plt.semilogx()\n",
    "plt.xlabel('$\\lambda$ [cm]', fontsize=18)\n",
    "plt.ylabel('PDF', fontsize=18)\n",
    "plt.grid()\n",
    "plt.savefig('/home/visitor/soummyadip/posterior.pdf')\n",
    "plt.show()"
   ]
  },
  {
   "cell_type": "code",
   "execution_count": null,
   "id": "cb83f6c8",
   "metadata": {},
   "outputs": [],
   "source": []
  }
 ],
 "metadata": {
  "kernelspec": {
   "display_name": "Python 3 (ipykernel)",
   "language": "python",
   "name": "python3"
  },
  "language_info": {
   "codemirror_mode": {
    "name": "ipython",
    "version": 3
   },
   "file_extension": ".py",
   "mimetype": "text/x-python",
   "name": "python",
   "nbconvert_exporter": "python",
   "pygments_lexer": "ipython3",
   "version": "3.8.13"
  }
 },
 "nbformat": 4,
 "nbformat_minor": 5
}
