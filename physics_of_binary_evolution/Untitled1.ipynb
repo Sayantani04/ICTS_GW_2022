{
 "cells": [
  {
   "cell_type": "code",
   "execution_count": 1,
   "id": "lesbian-gasoline",
   "metadata": {},
   "outputs": [],
   "source": [
    "import numpy as np\n",
    "import json\n",
    "import corner\n",
    "import matplotlib.pyplot as plt"
   ]
  },
  {
   "cell_type": "code",
   "execution_count": 8,
   "id": "bizarre-italy",
   "metadata": {},
   "outputs": [],
   "source": [
    "f = open('/home/aditya/o1o2o3_mass_c_iid_mag_iid_tilt_powerlaw_redshift_result.json')\n",
    "data = json.load(f)\n",
    "samples = data[\"posterior\"][\"content\"]"
   ]
  },
  {
   "cell_type": "code",
   "execution_count": null,
   "id": "pediatric-amplifier",
   "metadata": {},
   "outputs": [],
   "source": [
    "variables_to_plot = ['alpha', 'beta', 'mmax', 'mmin', 'lam', 'mpp', 'sigpp', 'delta_m', 'mu_chi', 'sigma_chi', 'xi_spin', 'sigma_spin', 'lamb']\n",
    "data_to_plot = np.column_stack([samples[var] for var in variables_to_plot])\n",
    "corner.corner(data_to_plot, labels=variables_to_plot, color=\"cyan\")"
   ]
  },
  {
   "cell_type": "code",
   "execution_count": null,
   "id": "coordinated-title",
   "metadata": {},
   "outputs": [],
   "source": []
  }
 ],
 "metadata": {
  "kernelspec": {
   "display_name": "Python 3",
   "language": "python",
   "name": "python3"
  },
  "language_info": {
   "codemirror_mode": {
    "name": "ipython",
    "version": 3
   },
   "file_extension": ".py",
   "mimetype": "text/x-python",
   "name": "python",
   "nbconvert_exporter": "python",
   "pygments_lexer": "ipython3",
   "version": "3.8.6"
  }
 },
 "nbformat": 4,
 "nbformat_minor": 5
}
